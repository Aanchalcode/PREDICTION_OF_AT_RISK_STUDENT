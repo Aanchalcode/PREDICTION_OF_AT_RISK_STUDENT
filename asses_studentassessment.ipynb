{
 "cells": [
  {
   "cell_type": "code",
   "execution_count": 13,
   "metadata": {},
   "outputs": [],
   "source": [
    "import pandas as pd\n",
    "df1=pd.read_csv('studentAssessment.csv')\n",
    "df2=pd.read_csv('assessments.csv')"
   ]
  },
  {
   "cell_type": "code",
   "execution_count": 14,
   "metadata": {},
   "outputs": [],
   "source": [
    "merged_df=df1.merge(df2,on=['id_assessment'],how='inner')\n"
   ]
  },
  {
   "cell_type": "code",
   "execution_count": 15,
   "metadata": {},
   "outputs": [
    {
     "data": {
      "text/html": [
       "<div>\n",
       "<style scoped>\n",
       "    .dataframe tbody tr th:only-of-type {\n",
       "        vertical-align: middle;\n",
       "    }\n",
       "\n",
       "    .dataframe tbody tr th {\n",
       "        vertical-align: top;\n",
       "    }\n",
       "\n",
       "    .dataframe thead th {\n",
       "        text-align: right;\n",
       "    }\n",
       "</style>\n",
       "<table border=\"1\" class=\"dataframe\">\n",
       "  <thead>\n",
       "    <tr style=\"text-align: right;\">\n",
       "      <th></th>\n",
       "      <th>id_assessment</th>\n",
       "      <th>id_student</th>\n",
       "      <th>date_submitted</th>\n",
       "      <th>is_banked</th>\n",
       "      <th>score</th>\n",
       "      <th>code_module</th>\n",
       "      <th>code_presentation</th>\n",
       "      <th>assessment_type</th>\n",
       "      <th>date</th>\n",
       "      <th>weight</th>\n",
       "    </tr>\n",
       "  </thead>\n",
       "  <tbody>\n",
       "    <tr>\n",
       "      <th>0</th>\n",
       "      <td>1752</td>\n",
       "      <td>11391</td>\n",
       "      <td>18</td>\n",
       "      <td>0</td>\n",
       "      <td>78.0</td>\n",
       "      <td>AAA</td>\n",
       "      <td>2013J</td>\n",
       "      <td>TMA</td>\n",
       "      <td>19.0</td>\n",
       "      <td>10.0</td>\n",
       "    </tr>\n",
       "    <tr>\n",
       "      <th>1</th>\n",
       "      <td>1752</td>\n",
       "      <td>28400</td>\n",
       "      <td>22</td>\n",
       "      <td>0</td>\n",
       "      <td>70.0</td>\n",
       "      <td>AAA</td>\n",
       "      <td>2013J</td>\n",
       "      <td>TMA</td>\n",
       "      <td>19.0</td>\n",
       "      <td>10.0</td>\n",
       "    </tr>\n",
       "    <tr>\n",
       "      <th>2</th>\n",
       "      <td>1752</td>\n",
       "      <td>31604</td>\n",
       "      <td>17</td>\n",
       "      <td>0</td>\n",
       "      <td>72.0</td>\n",
       "      <td>AAA</td>\n",
       "      <td>2013J</td>\n",
       "      <td>TMA</td>\n",
       "      <td>19.0</td>\n",
       "      <td>10.0</td>\n",
       "    </tr>\n",
       "    <tr>\n",
       "      <th>3</th>\n",
       "      <td>1752</td>\n",
       "      <td>32885</td>\n",
       "      <td>26</td>\n",
       "      <td>0</td>\n",
       "      <td>69.0</td>\n",
       "      <td>AAA</td>\n",
       "      <td>2013J</td>\n",
       "      <td>TMA</td>\n",
       "      <td>19.0</td>\n",
       "      <td>10.0</td>\n",
       "    </tr>\n",
       "    <tr>\n",
       "      <th>4</th>\n",
       "      <td>1752</td>\n",
       "      <td>38053</td>\n",
       "      <td>19</td>\n",
       "      <td>0</td>\n",
       "      <td>79.0</td>\n",
       "      <td>AAA</td>\n",
       "      <td>2013J</td>\n",
       "      <td>TMA</td>\n",
       "      <td>19.0</td>\n",
       "      <td>10.0</td>\n",
       "    </tr>\n",
       "    <tr>\n",
       "      <th>...</th>\n",
       "      <td>...</td>\n",
       "      <td>...</td>\n",
       "      <td>...</td>\n",
       "      <td>...</td>\n",
       "      <td>...</td>\n",
       "      <td>...</td>\n",
       "      <td>...</td>\n",
       "      <td>...</td>\n",
       "      <td>...</td>\n",
       "      <td>...</td>\n",
       "    </tr>\n",
       "    <tr>\n",
       "      <th>173907</th>\n",
       "      <td>37443</td>\n",
       "      <td>527538</td>\n",
       "      <td>227</td>\n",
       "      <td>0</td>\n",
       "      <td>60.0</td>\n",
       "      <td>GGG</td>\n",
       "      <td>2014J</td>\n",
       "      <td>CMA</td>\n",
       "      <td>229.0</td>\n",
       "      <td>0.0</td>\n",
       "    </tr>\n",
       "    <tr>\n",
       "      <th>173908</th>\n",
       "      <td>37443</td>\n",
       "      <td>534672</td>\n",
       "      <td>229</td>\n",
       "      <td>0</td>\n",
       "      <td>100.0</td>\n",
       "      <td>GGG</td>\n",
       "      <td>2014J</td>\n",
       "      <td>CMA</td>\n",
       "      <td>229.0</td>\n",
       "      <td>0.0</td>\n",
       "    </tr>\n",
       "    <tr>\n",
       "      <th>173909</th>\n",
       "      <td>37443</td>\n",
       "      <td>546286</td>\n",
       "      <td>215</td>\n",
       "      <td>0</td>\n",
       "      <td>80.0</td>\n",
       "      <td>GGG</td>\n",
       "      <td>2014J</td>\n",
       "      <td>CMA</td>\n",
       "      <td>229.0</td>\n",
       "      <td>0.0</td>\n",
       "    </tr>\n",
       "    <tr>\n",
       "      <th>173910</th>\n",
       "      <td>37443</td>\n",
       "      <td>546724</td>\n",
       "      <td>230</td>\n",
       "      <td>0</td>\n",
       "      <td>100.0</td>\n",
       "      <td>GGG</td>\n",
       "      <td>2014J</td>\n",
       "      <td>CMA</td>\n",
       "      <td>229.0</td>\n",
       "      <td>0.0</td>\n",
       "    </tr>\n",
       "    <tr>\n",
       "      <th>173911</th>\n",
       "      <td>37443</td>\n",
       "      <td>558486</td>\n",
       "      <td>224</td>\n",
       "      <td>0</td>\n",
       "      <td>80.0</td>\n",
       "      <td>GGG</td>\n",
       "      <td>2014J</td>\n",
       "      <td>CMA</td>\n",
       "      <td>229.0</td>\n",
       "      <td>0.0</td>\n",
       "    </tr>\n",
       "  </tbody>\n",
       "</table>\n",
       "<p>173912 rows × 10 columns</p>\n",
       "</div>"
      ],
      "text/plain": [
       "        id_assessment  id_student  date_submitted  is_banked  score  \\\n",
       "0                1752       11391              18          0   78.0   \n",
       "1                1752       28400              22          0   70.0   \n",
       "2                1752       31604              17          0   72.0   \n",
       "3                1752       32885              26          0   69.0   \n",
       "4                1752       38053              19          0   79.0   \n",
       "...               ...         ...             ...        ...    ...   \n",
       "173907          37443      527538             227          0   60.0   \n",
       "173908          37443      534672             229          0  100.0   \n",
       "173909          37443      546286             215          0   80.0   \n",
       "173910          37443      546724             230          0  100.0   \n",
       "173911          37443      558486             224          0   80.0   \n",
       "\n",
       "       code_module code_presentation assessment_type   date  weight  \n",
       "0              AAA             2013J             TMA   19.0    10.0  \n",
       "1              AAA             2013J             TMA   19.0    10.0  \n",
       "2              AAA             2013J             TMA   19.0    10.0  \n",
       "3              AAA             2013J             TMA   19.0    10.0  \n",
       "4              AAA             2013J             TMA   19.0    10.0  \n",
       "...            ...               ...             ...    ...     ...  \n",
       "173907         GGG             2014J             CMA  229.0     0.0  \n",
       "173908         GGG             2014J             CMA  229.0     0.0  \n",
       "173909         GGG             2014J             CMA  229.0     0.0  \n",
       "173910         GGG             2014J             CMA  229.0     0.0  \n",
       "173911         GGG             2014J             CMA  229.0     0.0  \n",
       "\n",
       "[173912 rows x 10 columns]"
      ]
     },
     "execution_count": 15,
     "metadata": {},
     "output_type": "execute_result"
    }
   ],
   "source": [
    "merged_df"
   ]
  },
  {
   "cell_type": "code",
   "execution_count": 16,
   "metadata": {},
   "outputs": [
    {
     "data": {
      "text/plain": [
       "23369"
      ]
     },
     "execution_count": 16,
     "metadata": {},
     "output_type": "execute_result"
    }
   ],
   "source": [
    "merged_df['id_student'].nunique()"
   ]
  },
  {
   "cell_type": "code",
   "execution_count": 17,
   "metadata": {},
   "outputs": [],
   "source": [
    "module_presentations = merged_df.groupby(['code_module', 'code_presentation'])\n",
    "thresholds = module_presentations['date'].max().reset_index()\n",
    "thresholds['LS20'] = thresholds['date'] * 0.2\n",
    "thresholds['LS40'] = thresholds['date'] * 0.4\n",
    "thresholds['LS60'] = thresholds['date'] * 0.6\n",
    "thresholds['LS80'] = thresholds['date'] * 0.8\n",
    "thresholds['LS100'] = thresholds['date']"
   ]
  },
  {
   "cell_type": "code",
   "execution_count": 18,
   "metadata": {},
   "outputs": [],
   "source": [
    "merged_df = pd.merge(merged_df, thresholds, on=['code_module', 'code_presentation'])\n"
   ]
  },
  {
   "cell_type": "code",
   "execution_count": 19,
   "metadata": {},
   "outputs": [],
   "source": [
    "# Define a function to check late submissions by thresholds\n",
    "def calculate_late(row, thresholds):\n",
    "    late_counts = {}\n",
    "    for thresh in thresholds:\n",
    "        late_counts[thresh] = int(row['date_submitted'] > row[thresh])\n",
    "    return pd.Series(late_counts)\n",
    "\n",
    "threshold_columns = ['LS20', 'LS40', 'LS60', 'LS80', 'LS100']\n",
    "merged_df[threshold_columns] = merged_df.apply(lambda row: calculate_late(row, threshold_columns), axis=1)\n"
   ]
  },
  {
   "cell_type": "code",
   "execution_count": 20,
   "metadata": {},
   "outputs": [
    {
     "name": "stdout",
     "output_type": "stream",
     "text": [
      "       id_student  LS20  LS40  LS60  LS80  LS100\n",
      "0            6516     4     3     2     1      0\n",
      "1            8462     1     0     0     0      0\n",
      "2           11391     4     3     2     1      0\n",
      "3           23629     3     1     0     0      0\n",
      "4           23698     7     6     5     3      2\n",
      "...           ...   ...   ...   ...   ...    ...\n",
      "23364     2698251     6     4     3     2      0\n",
      "23365     2698257     4     3     2     1      0\n",
      "23366     2698535     6     5     3     1      1\n",
      "23367     2698577     4     3     2     1      0\n",
      "23368     2698588     4     3     2     1      1\n",
      "\n",
      "[23369 rows x 6 columns]\n"
     ]
    }
   ],
   "source": [
    "\n",
    "# Summarize late submissions by student\n",
    "late_summary = merged_df.groupby('id_student')[threshold_columns].sum().reset_index()\n",
    "\n",
    "# Output results\n",
    "print(late_summary)"
   ]
  },
  {
   "cell_type": "markdown",
   "metadata": {},
   "source": [
    "Student ID 6516:\n",
    "\n",
    "Submitted 4 assessments late by 20% course completion.\n",
    "Submitted only 3 late by 40% (improved timeliness).\n",
    "By 100% completion, there were no late submissions.\n",
    "Student ID 23698:\n",
    "\n",
    "Submitted 7 assessments late by 20% completion.\n",
    "Continued submitting late, with 2 late submissions still recorded by 100% completion."
   ]
  },
  {
   "cell_type": "code",
   "execution_count": 9,
   "metadata": {},
   "outputs": [
    {
     "name": "stdout",
     "output_type": "stream",
     "text": [
      "Assessment ID 1758 - Submission Date: 17\n",
      "Threshold Dates: LS20: 0, LS40: 0, LS60: 0, LS80: 0, LS100: 0\n",
      "Late Submission Count: LS20 = 1, LS40 = 1, LS60 = 1, LS80 = 1, LS100 = 1\n",
      "---\n",
      "Assessment ID 1759 - Submission Date: 51\n",
      "Threshold Dates: LS20: 1, LS40: 0, LS60: 0, LS80: 0, LS100: 0\n",
      "Late Submission Count: LS20 = 1, LS40 = 1, LS60 = 1, LS80 = 1, LS100 = 1\n",
      "---\n",
      "Assessment ID 1760 - Submission Date: 116\n",
      "Threshold Dates: LS20: 1, LS40: 1, LS60: 0, LS80: 0, LS100: 0\n",
      "Late Submission Count: LS20 = 1, LS40 = 1, LS60 = 1, LS80 = 1, LS100 = 1\n",
      "---\n",
      "Assessment ID 1761 - Submission Date: 164\n",
      "Threshold Dates: LS20: 1, LS40: 1, LS60: 1, LS80: 0, LS100: 0\n",
      "Late Submission Count: LS20 = 1, LS40 = 1, LS60 = 1, LS80 = 1, LS100 = 1\n",
      "---\n",
      "Assessment ID 1762 - Submission Date: 210\n",
      "Threshold Dates: LS20: 1, LS40: 1, LS60: 1, LS80: 1, LS100: 0\n",
      "Late Submission Count: LS20 = 1, LS40 = 1, LS60 = 1, LS80 = 1, LS100 = 1\n",
      "---\n"
     ]
    }
   ],
   "source": [
    "# Example verification: Check the correct comparison of late submissions at each threshold for a specific student\n",
    "student_id = 6516  # Example student ID\n",
    "student_data = merged_df[merged_df['id_student'] == student_id]\n",
    "\n",
    "# Verify late submission counts for LS20, LS40, LS60, LS80, LS100\n",
    "for index, row in student_data.iterrows():\n",
    "    print(f\"Assessment ID {row['id_assessment']} - Submission Date: {row['date_submitted']}\")\n",
    "    print(f\"Threshold Dates: LS20: {row['LS20']}, LS40: {row['LS40']}, LS60: {row['LS60']}, LS80: {row['LS80']}, LS100: {row['LS100']}\")\n",
    "    print(f\"Late Submission Count: LS20 = {int(row['date_submitted'] > row['LS20'])}, LS40 = {int(row['date_submitted'] > row['LS40'])}, LS60 = {int(row['date_submitted'] > row['LS60'])}, LS80 = {int(row['date_submitted'] > row['LS80'])}, LS100 = {int(row['date_submitted'] > row['LS100'])}\")\n",
    "    print('---')\n"
   ]
  },
  {
   "cell_type": "code",
   "execution_count": 21,
   "metadata": {},
   "outputs": [],
   "source": [
    "late_summary1=late_summary.to_csv('late_summary1.csv')"
   ]
  },
  {
   "cell_type": "code",
   "execution_count": null,
   "metadata": {},
   "outputs": [],
   "source": []
  }
 ],
 "metadata": {
  "kernelspec": {
   "display_name": "MachineLearning",
   "language": "python",
   "name": "python3"
  },
  "language_info": {
   "codemirror_mode": {
    "name": "ipython",
    "version": 3
   },
   "file_extension": ".py",
   "mimetype": "text/x-python",
   "name": "python",
   "nbconvert_exporter": "python",
   "pygments_lexer": "ipython3",
   "version": "3.11.9"
  }
 },
 "nbformat": 4,
 "nbformat_minor": 2
}
