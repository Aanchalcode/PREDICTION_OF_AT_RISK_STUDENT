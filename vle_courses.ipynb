{
 "cells": [
  {
   "cell_type": "code",
   "execution_count": 30,
   "metadata": {},
   "outputs": [],
   "source": [
    "student_vle = pd.read_csv('studentVle.csv')  # The student interaction data\n",
    "courses = pd.read_csv('courses.csv')  # The course length data\n"
   ]
  },
  {
   "cell_type": "code",
   "execution_count": 31,
   "metadata": {},
   "outputs": [],
   "source": [
    "import pandas as pd"
   ]
  },
  {
   "cell_type": "code",
   "execution_count": 32,
   "metadata": {},
   "outputs": [],
   "source": [
    "df = pd.merge(student_vle, courses, on=['code_module', 'code_presentation'], how='left')\n"
   ]
  },
  {
   "cell_type": "code",
   "execution_count": 33,
   "metadata": {},
   "outputs": [
    {
     "data": {
      "text/plain": [
       "(10655280, 7)"
      ]
     },
     "execution_count": 33,
     "metadata": {},
     "output_type": "execute_result"
    }
   ],
   "source": [
    "df.shape"
   ]
  },
  {
   "cell_type": "code",
   "execution_count": 34,
   "metadata": {},
   "outputs": [
    {
     "name": "stdout",
     "output_type": "stream",
     "text": [
      "         code_module code_presentation  id_student  id_site  date  sum_click  \\\n",
      "0                AAA             2013J       28400   546652   -10          4   \n",
      "1                AAA             2013J       28400   546652   -10          1   \n",
      "2                AAA             2013J       28400   546652   -10          1   \n",
      "3                AAA             2013J       28400   546614   -10         11   \n",
      "4                AAA             2013J       28400   546714   -10          1   \n",
      "...              ...               ...         ...      ...   ...        ...   \n",
      "10655266         GGG             2014J      688388   896939   269          7   \n",
      "10655267         GGG             2014J      688388   896939   269          3   \n",
      "10655277         GGG             2014J      654064   896943   269          3   \n",
      "10655278         GGG             2014J      654064   896939   269          1   \n",
      "10655279         GGG             2014J      654064   896939   269          1   \n",
      "\n",
      "          module_presentation_length  \n",
      "0                                268  \n",
      "1                                268  \n",
      "2                                268  \n",
      "3                                268  \n",
      "4                                268  \n",
      "...                              ...  \n",
      "10655266                         269  \n",
      "10655267                         269  \n",
      "10655277                         269  \n",
      "10655278                         269  \n",
      "10655279                         269  \n",
      "\n",
      "[10377098 rows x 7 columns]\n"
     ]
    }
   ],
   "source": [
    "\n",
    "duplicate_rows = df[df.duplicated(subset=['code_module', 'code_presentation', 'id_student', 'date'], keep=False)]\n",
    "print(duplicate_rows)"
   ]
  },
  {
   "cell_type": "code",
   "execution_count": 35,
   "metadata": {},
   "outputs": [
    {
     "name": "stdout",
     "output_type": "stream",
     "text": [
      "Number of duplicate rows: 787170\n"
     ]
    }
   ],
   "source": [
    "# Check for duplicates\n",
    "duplicate_count = df.duplicated().sum()\n",
    "print(f\"Number of duplicate rows: {duplicate_count}\")\n"
   ]
  },
  {
   "cell_type": "code",
   "execution_count": 36,
   "metadata": {},
   "outputs": [
    {
     "name": "stdout",
     "output_type": "stream",
     "text": [
      "Rows after removing duplicates: 9868110\n"
     ]
    }
   ],
   "source": [
    "# Remove duplicate rows\n",
    "df = df.drop_duplicates()\n",
    "\n",
    "# Verify after removing duplicates\n",
    "print(f\"Rows after removing duplicates: {df.shape[0]}\")\n"
   ]
  },
  {
   "cell_type": "code",
   "execution_count": 37,
   "metadata": {},
   "outputs": [
    {
     "name": "stdout",
     "output_type": "stream",
     "text": [
      "Empty DataFrame\n",
      "Columns: [code_module, code_presentation, id_student, id_site, date, sum_click, module_presentation_length]\n",
      "Index: []\n"
     ]
    }
   ],
   "source": [
    "# Display duplicate rows\n",
    "duplicates = df[df.duplicated(keep=False)]\n",
    "print(duplicates.head())\n"
   ]
  },
  {
   "cell_type": "code",
   "execution_count": 38,
   "metadata": {},
   "outputs": [
    {
     "name": "stdout",
     "output_type": "stream",
     "text": [
      "Merge keys are unique.\n"
     ]
    }
   ],
   "source": [
    "# Check uniqueness of merge keys in courses.csv\n",
    "is_unique = courses[['code_module', 'code_presentation']].duplicated().any()\n",
    "if not is_unique:\n",
    "    print(\"Merge keys are unique.\")\n",
    "else:\n",
    "    print(\"Merge keys have duplicates!\")\n"
   ]
  },
  {
   "cell_type": "code",
   "execution_count": 39,
   "metadata": {},
   "outputs": [],
   "source": [
    "# Remove duplicates in courses.csv if necessary\n",
    "courses = courses.drop_duplicates(subset=['code_module', 'code_presentation'])\n"
   ]
  },
  {
   "cell_type": "code",
   "execution_count": 40,
   "metadata": {},
   "outputs": [
    {
     "name": "stdout",
     "output_type": "stream",
     "text": [
      "Final number of rows: 9868110\n"
     ]
    }
   ],
   "source": [
    "print(f\"Final number of rows: {df.shape[0]}\")\n"
   ]
  },
  {
   "cell_type": "code",
   "execution_count": 41,
   "metadata": {},
   "outputs": [
    {
     "data": {
      "text/html": [
       "<div>\n",
       "<style scoped>\n",
       "    .dataframe tbody tr th:only-of-type {\n",
       "        vertical-align: middle;\n",
       "    }\n",
       "\n",
       "    .dataframe tbody tr th {\n",
       "        vertical-align: top;\n",
       "    }\n",
       "\n",
       "    .dataframe thead th {\n",
       "        text-align: right;\n",
       "    }\n",
       "</style>\n",
       "<table border=\"1\" class=\"dataframe\">\n",
       "  <thead>\n",
       "    <tr style=\"text-align: right;\">\n",
       "      <th></th>\n",
       "      <th>code_module</th>\n",
       "      <th>code_presentation</th>\n",
       "      <th>id_student</th>\n",
       "      <th>id_site</th>\n",
       "      <th>date</th>\n",
       "      <th>sum_click</th>\n",
       "      <th>module_presentation_length</th>\n",
       "      <th>percentage_completion</th>\n",
       "    </tr>\n",
       "  </thead>\n",
       "  <tbody>\n",
       "    <tr>\n",
       "      <th>0</th>\n",
       "      <td>AAA</td>\n",
       "      <td>2013J</td>\n",
       "      <td>28400</td>\n",
       "      <td>546652</td>\n",
       "      <td>-10</td>\n",
       "      <td>4</td>\n",
       "      <td>268</td>\n",
       "      <td>-3.731343</td>\n",
       "    </tr>\n",
       "    <tr>\n",
       "      <th>1</th>\n",
       "      <td>AAA</td>\n",
       "      <td>2013J</td>\n",
       "      <td>28400</td>\n",
       "      <td>546652</td>\n",
       "      <td>-10</td>\n",
       "      <td>1</td>\n",
       "      <td>268</td>\n",
       "      <td>-3.731343</td>\n",
       "    </tr>\n",
       "    <tr>\n",
       "      <th>3</th>\n",
       "      <td>AAA</td>\n",
       "      <td>2013J</td>\n",
       "      <td>28400</td>\n",
       "      <td>546614</td>\n",
       "      <td>-10</td>\n",
       "      <td>11</td>\n",
       "      <td>268</td>\n",
       "      <td>-3.731343</td>\n",
       "    </tr>\n",
       "    <tr>\n",
       "      <th>4</th>\n",
       "      <td>AAA</td>\n",
       "      <td>2013J</td>\n",
       "      <td>28400</td>\n",
       "      <td>546714</td>\n",
       "      <td>-10</td>\n",
       "      <td>1</td>\n",
       "      <td>268</td>\n",
       "      <td>-3.731343</td>\n",
       "    </tr>\n",
       "    <tr>\n",
       "      <th>5</th>\n",
       "      <td>AAA</td>\n",
       "      <td>2013J</td>\n",
       "      <td>28400</td>\n",
       "      <td>546652</td>\n",
       "      <td>-10</td>\n",
       "      <td>8</td>\n",
       "      <td>268</td>\n",
       "      <td>-3.731343</td>\n",
       "    </tr>\n",
       "    <tr>\n",
       "      <th>...</th>\n",
       "      <td>...</td>\n",
       "      <td>...</td>\n",
       "      <td>...</td>\n",
       "      <td>...</td>\n",
       "      <td>...</td>\n",
       "      <td>...</td>\n",
       "      <td>...</td>\n",
       "      <td>...</td>\n",
       "    </tr>\n",
       "    <tr>\n",
       "      <th>10655274</th>\n",
       "      <td>GGG</td>\n",
       "      <td>2014J</td>\n",
       "      <td>679769</td>\n",
       "      <td>896943</td>\n",
       "      <td>269</td>\n",
       "      <td>2</td>\n",
       "      <td>269</td>\n",
       "      <td>100.000000</td>\n",
       "    </tr>\n",
       "    <tr>\n",
       "      <th>10655275</th>\n",
       "      <td>GGG</td>\n",
       "      <td>2014J</td>\n",
       "      <td>675811</td>\n",
       "      <td>896943</td>\n",
       "      <td>269</td>\n",
       "      <td>3</td>\n",
       "      <td>269</td>\n",
       "      <td>100.000000</td>\n",
       "    </tr>\n",
       "    <tr>\n",
       "      <th>10655276</th>\n",
       "      <td>GGG</td>\n",
       "      <td>2014J</td>\n",
       "      <td>675578</td>\n",
       "      <td>896943</td>\n",
       "      <td>269</td>\n",
       "      <td>1</td>\n",
       "      <td>269</td>\n",
       "      <td>100.000000</td>\n",
       "    </tr>\n",
       "    <tr>\n",
       "      <th>10655277</th>\n",
       "      <td>GGG</td>\n",
       "      <td>2014J</td>\n",
       "      <td>654064</td>\n",
       "      <td>896943</td>\n",
       "      <td>269</td>\n",
       "      <td>3</td>\n",
       "      <td>269</td>\n",
       "      <td>100.000000</td>\n",
       "    </tr>\n",
       "    <tr>\n",
       "      <th>10655278</th>\n",
       "      <td>GGG</td>\n",
       "      <td>2014J</td>\n",
       "      <td>654064</td>\n",
       "      <td>896939</td>\n",
       "      <td>269</td>\n",
       "      <td>1</td>\n",
       "      <td>269</td>\n",
       "      <td>100.000000</td>\n",
       "    </tr>\n",
       "  </tbody>\n",
       "</table>\n",
       "<p>9868110 rows × 8 columns</p>\n",
       "</div>"
      ],
      "text/plain": [
       "         code_module code_presentation  id_student  id_site  date  sum_click  \\\n",
       "0                AAA             2013J       28400   546652   -10          4   \n",
       "1                AAA             2013J       28400   546652   -10          1   \n",
       "3                AAA             2013J       28400   546614   -10         11   \n",
       "4                AAA             2013J       28400   546714   -10          1   \n",
       "5                AAA             2013J       28400   546652   -10          8   \n",
       "...              ...               ...         ...      ...   ...        ...   \n",
       "10655274         GGG             2014J      679769   896943   269          2   \n",
       "10655275         GGG             2014J      675811   896943   269          3   \n",
       "10655276         GGG             2014J      675578   896943   269          1   \n",
       "10655277         GGG             2014J      654064   896943   269          3   \n",
       "10655278         GGG             2014J      654064   896939   269          1   \n",
       "\n",
       "          module_presentation_length  percentage_completion  \n",
       "0                                268              -3.731343  \n",
       "1                                268              -3.731343  \n",
       "3                                268              -3.731343  \n",
       "4                                268              -3.731343  \n",
       "5                                268              -3.731343  \n",
       "...                              ...                    ...  \n",
       "10655274                         269             100.000000  \n",
       "10655275                         269             100.000000  \n",
       "10655276                         269             100.000000  \n",
       "10655277                         269             100.000000  \n",
       "10655278                         269             100.000000  \n",
       "\n",
       "[9868110 rows x 8 columns]"
      ]
     },
     "execution_count": 41,
     "metadata": {},
     "output_type": "execute_result"
    }
   ],
   "source": [
    "df['percentage_completion'] = (df['date'] / df['module_presentation_length'] * 100).clip(upper=100)\n",
    "df"
   ]
  },
  {
   "cell_type": "code",
   "execution_count": 42,
   "metadata": {},
   "outputs": [],
   "source": [
    "# Define percentage ranges\n",
    "percent_ranges = [20, 40, 60, 80, 100]\n",
    "\n",
    "# Step 3: Initialize a results DataFrame\n",
    "results = []\n",
    "\n",
    "# Group by student and module-presentation\n",
    "grouped = df.groupby(['code_module', 'code_presentation', 'id_student'])\n"
   ]
  },
  {
   "cell_type": "code",
   "execution_count": 43,
   "metadata": {},
   "outputs": [],
   "source": [
    "\n",
    "for (module, presentation, student), group in grouped:\n",
    "    student_result = {'code_module': module, 'code_presentation': presentation, 'id_student': student}\n",
    "    for p in percent_ranges:\n",
    "        # Filter data within the percentage range\n",
    "        clicks = group[group['percentage_completion'] <= p]['sum_click']\n",
    "        student_result[f'AC{p}%'] = clicks.mean() if not clicks.empty else 0\n",
    "    results.append(student_result)\n"
   ]
  },
  {
   "cell_type": "code",
   "execution_count": 44,
   "metadata": {},
   "outputs": [],
   "source": [
    "\n",
    "# Step 4: Convert results into a DataFrame\n",
    "final_df = pd.DataFrame(results)\n"
   ]
  },
  {
   "cell_type": "code",
   "execution_count": 45,
   "metadata": {},
   "outputs": [
    {
     "data": {
      "text/html": [
       "<div>\n",
       "<style scoped>\n",
       "    .dataframe tbody tr th:only-of-type {\n",
       "        vertical-align: middle;\n",
       "    }\n",
       "\n",
       "    .dataframe tbody tr th {\n",
       "        vertical-align: top;\n",
       "    }\n",
       "\n",
       "    .dataframe thead th {\n",
       "        text-align: right;\n",
       "    }\n",
       "</style>\n",
       "<table border=\"1\" class=\"dataframe\">\n",
       "  <thead>\n",
       "    <tr style=\"text-align: right;\">\n",
       "      <th></th>\n",
       "      <th>code_module</th>\n",
       "      <th>code_presentation</th>\n",
       "      <th>id_student</th>\n",
       "      <th>AC20%</th>\n",
       "      <th>AC40%</th>\n",
       "      <th>AC60%</th>\n",
       "      <th>AC80%</th>\n",
       "      <th>AC100%</th>\n",
       "    </tr>\n",
       "  </thead>\n",
       "  <tbody>\n",
       "    <tr>\n",
       "      <th>0</th>\n",
       "      <td>AAA</td>\n",
       "      <td>2013J</td>\n",
       "      <td>11391</td>\n",
       "      <td>5.988636</td>\n",
       "      <td>5.252101</td>\n",
       "      <td>5.338346</td>\n",
       "      <td>5.275168</td>\n",
       "      <td>4.802083</td>\n",
       "    </tr>\n",
       "    <tr>\n",
       "      <th>1</th>\n",
       "      <td>AAA</td>\n",
       "      <td>2013J</td>\n",
       "      <td>28400</td>\n",
       "      <td>3.793103</td>\n",
       "      <td>3.510204</td>\n",
       "      <td>3.286164</td>\n",
       "      <td>3.443069</td>\n",
       "      <td>3.403382</td>\n",
       "    </tr>\n",
       "    <tr>\n",
       "      <th>2</th>\n",
       "      <td>AAA</td>\n",
       "      <td>2013J</td>\n",
       "      <td>30268</td>\n",
       "      <td>3.611111</td>\n",
       "      <td>3.611111</td>\n",
       "      <td>3.611111</td>\n",
       "      <td>3.611111</td>\n",
       "      <td>3.611111</td>\n",
       "    </tr>\n",
       "    <tr>\n",
       "      <th>3</th>\n",
       "      <td>AAA</td>\n",
       "      <td>2013J</td>\n",
       "      <td>31604</td>\n",
       "      <td>3.381166</td>\n",
       "      <td>3.484375</td>\n",
       "      <td>3.373550</td>\n",
       "      <td>3.299814</td>\n",
       "      <td>3.306425</td>\n",
       "    </tr>\n",
       "    <tr>\n",
       "      <th>4</th>\n",
       "      <td>AAA</td>\n",
       "      <td>2013J</td>\n",
       "      <td>32885</td>\n",
       "      <td>3.953333</td>\n",
       "      <td>3.752577</td>\n",
       "      <td>3.484979</td>\n",
       "      <td>3.185053</td>\n",
       "      <td>3.020896</td>\n",
       "    </tr>\n",
       "    <tr>\n",
       "      <th>...</th>\n",
       "      <td>...</td>\n",
       "      <td>...</td>\n",
       "      <td>...</td>\n",
       "      <td>...</td>\n",
       "      <td>...</td>\n",
       "      <td>...</td>\n",
       "      <td>...</td>\n",
       "      <td>...</td>\n",
       "    </tr>\n",
       "    <tr>\n",
       "      <th>29223</th>\n",
       "      <td>GGG</td>\n",
       "      <td>2014J</td>\n",
       "      <td>2640965</td>\n",
       "      <td>2.235294</td>\n",
       "      <td>2.235294</td>\n",
       "      <td>2.235294</td>\n",
       "      <td>2.235294</td>\n",
       "      <td>2.235294</td>\n",
       "    </tr>\n",
       "    <tr>\n",
       "      <th>29224</th>\n",
       "      <td>GGG</td>\n",
       "      <td>2014J</td>\n",
       "      <td>2645731</td>\n",
       "      <td>2.291667</td>\n",
       "      <td>2.264706</td>\n",
       "      <td>4.307018</td>\n",
       "      <td>4.129353</td>\n",
       "      <td>3.976744</td>\n",
       "    </tr>\n",
       "    <tr>\n",
       "      <th>29225</th>\n",
       "      <td>GGG</td>\n",
       "      <td>2014J</td>\n",
       "      <td>2648187</td>\n",
       "      <td>1.545455</td>\n",
       "      <td>2.363636</td>\n",
       "      <td>2.750000</td>\n",
       "      <td>3.191011</td>\n",
       "      <td>3.095745</td>\n",
       "    </tr>\n",
       "    <tr>\n",
       "      <th>29226</th>\n",
       "      <td>GGG</td>\n",
       "      <td>2014J</td>\n",
       "      <td>2679821</td>\n",
       "      <td>4.352941</td>\n",
       "      <td>4.627119</td>\n",
       "      <td>4.627119</td>\n",
       "      <td>4.627119</td>\n",
       "      <td>4.627119</td>\n",
       "    </tr>\n",
       "    <tr>\n",
       "      <th>29227</th>\n",
       "      <td>GGG</td>\n",
       "      <td>2014J</td>\n",
       "      <td>2684003</td>\n",
       "      <td>2.945652</td>\n",
       "      <td>3.065574</td>\n",
       "      <td>3.323944</td>\n",
       "      <td>3.436709</td>\n",
       "      <td>3.621118</td>\n",
       "    </tr>\n",
       "  </tbody>\n",
       "</table>\n",
       "<p>29228 rows × 8 columns</p>\n",
       "</div>"
      ],
      "text/plain": [
       "      code_module code_presentation  id_student     AC20%     AC40%     AC60%  \\\n",
       "0             AAA             2013J       11391  5.988636  5.252101  5.338346   \n",
       "1             AAA             2013J       28400  3.793103  3.510204  3.286164   \n",
       "2             AAA             2013J       30268  3.611111  3.611111  3.611111   \n",
       "3             AAA             2013J       31604  3.381166  3.484375  3.373550   \n",
       "4             AAA             2013J       32885  3.953333  3.752577  3.484979   \n",
       "...           ...               ...         ...       ...       ...       ...   \n",
       "29223         GGG             2014J     2640965  2.235294  2.235294  2.235294   \n",
       "29224         GGG             2014J     2645731  2.291667  2.264706  4.307018   \n",
       "29225         GGG             2014J     2648187  1.545455  2.363636  2.750000   \n",
       "29226         GGG             2014J     2679821  4.352941  4.627119  4.627119   \n",
       "29227         GGG             2014J     2684003  2.945652  3.065574  3.323944   \n",
       "\n",
       "          AC80%    AC100%  \n",
       "0      5.275168  4.802083  \n",
       "1      3.443069  3.403382  \n",
       "2      3.611111  3.611111  \n",
       "3      3.299814  3.306425  \n",
       "4      3.185053  3.020896  \n",
       "...         ...       ...  \n",
       "29223  2.235294  2.235294  \n",
       "29224  4.129353  3.976744  \n",
       "29225  3.191011  3.095745  \n",
       "29226  4.627119  4.627119  \n",
       "29227  3.436709  3.621118  \n",
       "\n",
       "[29228 rows x 8 columns]"
      ]
     },
     "execution_count": 45,
     "metadata": {},
     "output_type": "execute_result"
    }
   ],
   "source": [
    "final_df"
   ]
  },
  {
   "cell_type": "code",
   "execution_count": null,
   "metadata": {},
   "outputs": [],
   "source": []
  }
 ],
 "metadata": {
  "kernelspec": {
   "display_name": "MachineLearning",
   "language": "python",
   "name": "python3"
  },
  "language_info": {
   "codemirror_mode": {
    "name": "ipython",
    "version": 3
   },
   "file_extension": ".py",
   "mimetype": "text/x-python",
   "name": "python",
   "nbconvert_exporter": "python",
   "pygments_lexer": "ipython3",
   "version": "3.11.9"
  }
 },
 "nbformat": 4,
 "nbformat_minor": 2
}
